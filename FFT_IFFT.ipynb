{
 "cells": [
  {
   "attachments": {},
   "cell_type": "markdown",
   "metadata": {},
   "source": [
    "# fft"
   ]
  },
  {
   "cell_type": "code",
   "execution_count": null,
   "metadata": {},
   "outputs": [],
   "source": [
    "#reading the image\n",
    "img = cv.imread('img1.png')\n",
    "\n",
    "#converting the image to greyscale \n",
    "grey = cv.cvtColor(img,cv.COLOR_BGR2GRAY)\n",
    "\n",
    "\n",
    "#Performing histogram equalization\n",
    "equalized = cv.equalizeHist(grey)\n",
    "\n",
    "#Plotting the histogram and the images side by side\n",
    "fig, axes = plt.subplots(2, 2, figsize=(15, 10)) #Creating a grid\n",
    "\n",
    "sns.histplot(ax=axes[0, 0], data = grey.ravel(),element='poly',color='red',alpha = 0.1)\n",
    "axes[0, 0].set_title(\"Original histogram\")\n",
    "\n",
    "sns.histplot(ax=axes[0, 1], data = equalized.ravel(),element='poly',color='green',alpha = 0.1)\n",
    "axes[0, 1].set_title(\"Equalized Histogram\")\n",
    "\n",
    "axes[1,0].imshow(bgr2rgb(grey))\n",
    "axes[1, 0].set_title(\"Original Image\")\n",
    "\n",
    "axes[1,1].imshow(bgr2rgb(equalized))\n",
    "axes[1, 1].set_title(\"equalized image\")"
   ]
  },
  {
   "attachments": {},
   "cell_type": "markdown",
   "metadata": {},
   "source": [
    "# ifft"
   ]
  },
  {
   "cell_type": "code",
   "execution_count": null,
   "metadata": {},
   "outputs": [],
   "source": [
    "# Read the image in grayscale\n",
    "img = (cv2.imread('img2.png'))\n",
    "\n",
    "img = cv.cvtColor(img,cv.COLOR_BGR2GRAY)\n",
    "\n",
    "#Fast Fourier transform\n",
    "f = np.fft.fft2(img)\n",
    "fhat = np.fft.fftshift(f)\n",
    "\n",
    "#inverse fast fourier transform\n",
    "phase = np.fft.ifft2(fhat)\n",
    "\n",
    "#making it readable \n",
    "converted_image = np.abs(phase)\n",
    "\n",
    "\n",
    "# Display the original and magnitude spectrum images\n",
    "dx,ax = plt.subplots(2,figsize = (15,10))\n",
    "ax[0].imshow(np.angle(phase),cmap = 'gray')\n",
    "ax[0].set_title(\"Phase\")\n",
    "ax[1].imshow(converted_image, cmap='gray')\n",
    "ax[1].set_title('Conveted image')\n"
   ]
  }
 ],
 "metadata": {
  "language_info": {
   "name": "python"
  },
  "orig_nbformat": 4
 },
 "nbformat": 4,
 "nbformat_minor": 2
}
