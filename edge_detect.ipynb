{
 "cells": [
  {
   "cell_type": "code",
   "execution_count": null,
   "metadata": {},
   "outputs": [],
   "source": [
    "from skimage import filters\n",
    "import cv2 as cv\n",
    "import matplotlib.pyplot as plt\n",
    "\n",
    "img = (cv.imread('img1.png'))\n",
    "gray = cv.cvtColor(img,cv.COLOR_BGR2GRAY)\n",
    "\n",
    "sob = filters.sobel(gray)\n",
    "pre = filters.prewitt(gray)\n",
    "rob = filters.roberts(gray)\n",
    "can = cv.Canny(img,100,200)\n",
    "\n",
    "\n",
    "fx,ax = plt.subplots(3,2,figsize = (15,15))\n",
    "ax[0,0].imshow(sob,cmap = 'gray')\n",
    "ax[0,0].set_title(\"sobels\")\n",
    "\n",
    "ax[0,1].imshow(pre,cmap = 'gray')\n",
    "ax[0,1].set_title(\"prewitts\")\n",
    "\n",
    "ax[1,0].imshow(rob,cmap = 'gray')\n",
    "ax[1,0].set_title(\"roberts\")\n",
    "\n",
    "ax[1,1].imshow(can,cmap = 'gray')\n",
    "ax[1,1].set_title(\"canny\")\n",
    "\n",
    "ax[2,0].imshow(bgr2rgb(img))\n",
    "ax[2,1].imshow(bgr2rgb(gray))"
   ]
  }
 ],
 "metadata": {
  "language_info": {
   "name": "python"
  },
  "orig_nbformat": 4
 },
 "nbformat": 4,
 "nbformat_minor": 2
}
