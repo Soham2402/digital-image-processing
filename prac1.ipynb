{
 "cells": [
  {
   "attachments": {},
   "cell_type": "markdown",
   "metadata": {},
   "source": [
    "## Histogram Equalization"
   ]
  },
  {
   "cell_type": "code",
   "execution_count": null,
   "metadata": {},
   "outputs": [],
   "source": [
    "import cv2 as cv\n",
    "import seaborn as sns\n",
    "import matplotlib.pyplot as plt\n",
    "import numpy as np\n",
    "\n",
    "#reading the image\n",
    "img = cv.imread('img1.png')\n",
    "\n",
    "#converting the image to greyscale \n",
    "grey = cv.cvtColor(img,cv.COLOR_BGR2GRAY)\n",
    "\n",
    "\n",
    "#Performing histogram equalization\n",
    "equalized = cv.equalizeHist(grey)\n",
    "\n",
    "#Plotting the histogram and the images side by side\n",
    "fig, axes = plt.subplots(2, 2, figsize=(15, 10)) #Creating a grid\n",
    "\n",
    "sns.histplot(ax=axes[0, 0], data = grey.ravel(),element='poly',color='red',alpha = 0.1)\n",
    "axes[0, 0].set_title(\"Original histogram\")\n",
    "\n",
    "sns.histplot(ax=axes[0, 1], data = equalized.ravel(),element='poly',color='green',alpha = 0.1)\n",
    "axes[0, 1].set_title(\"Equalized Histogram\")\n",
    "\n",
    "axes[1,0].imshow(bgr2rgb(grey))\n",
    "axes[1, 0].set_title(\"Original Image\")\n",
    "\n",
    "axes[1,1].imshow(bgr2rgb(equalized))\n",
    "axes[1, 1].set_title(\"equalized image\")"
   ]
  },
  {
   "cell_type": "markdown",
   "metadata": {},
   "source": [
    "## Power Law Transformation"
   ]
  },
  {
   "cell_type": "code",
   "execution_count": null,
   "metadata": {},
   "outputs": [],
   "source": [
    "#reading the image\n",
    "img = cv.imread('img1.png')\n",
    "\n",
    "#take in a gamma value input\n",
    "gamma = float(input(\"Enter a desired gamma value: \"))\n",
    "\n",
    "#performing gamma correction\n",
    "corrected = np.array(255*(img/255)**gamma, dtype = 'uint8')\n",
    "\n",
    "\n",
    "#plotting results\n",
    "fig, ax = plt.subplots(2,2,figsize = (15,10))\n",
    "\n",
    "#plotting og image\n",
    "ax[0,0].imshow(bgr2rgb(img))\n",
    "ax[0,0].set_title(\"Original\")\n",
    "\n",
    "#plotting corrected image\n",
    "ax[0,1].imshow(bgr2rgb(corrected))\n",
    "ax[0,1].set_title(f\"Gamma corrected image with gamma of {gamma}\")\n",
    "\n",
    "#histogram of og image\n",
    "rgb = get_rgb(img)\n",
    "sns.histplot(ax = ax[1,0], data = rgb[0],color='red',alpha = 0.1,element='poly')\n",
    "sns.histplot(ax = ax[1,0], data = rgb[1],color='green',alpha = 0.1,element='poly')    \n",
    "sns.histplot(ax = ax[1,0], data = rgb[2],color='blue',alpha = 0.1,element='poly') \n",
    "ax[1,0].set_title(\"original image histogram\")\n",
    "\n",
    "#histogram of corrected inage\n",
    "rgb = get_rgb(corrected)\n",
    "sns.histplot(ax = ax[1,1], data = rgb[0],color='red',alpha = 0.1,element='poly')\n",
    "sns.histplot(ax = ax[1,1], data = rgb[1],color='green',alpha = 0.1,element='poly')    \n",
    "sns.histplot(ax = ax[1,1], data = rgb[2],color='blue',alpha = 0.1,element='poly')   \n",
    "ax[1,1].set_title(f\"Gamma corrected histogram with gamma of {gamma}\")"
   ]
  },
  {
   "attachments": {},
   "cell_type": "markdown",
   "metadata": {},
   "source": [
    "## Log transform"
   ]
  },
  {
   "cell_type": "code",
   "execution_count": null,
   "metadata": {},
   "outputs": [],
   "source": [
    "#reading the image\n",
    "img = cv.imread('img1.png')\n",
    "\n",
    "#converting to gray scale\n",
    "img = cv.cvtColor(img, cv.COLOR_BGR2GRAY)\n",
    "\n",
    "#Performing log transofromation on the image\n",
    "img[img == 0] = 1\n",
    "constant = 255/np.log(np.max(img))\n",
    "log_transformed = constant*np.log(img)\n",
    "log_transformed = np.array(log_transformed,dtype = np.uint8)\n",
    "\n",
    "#plotting image\n",
    "fx,ax = plt.subplots(2, figsize = (15,10))\n",
    "\n",
    "ax[0].imshow(bgr2rgb(img))\n",
    "ax[0].set_title(\"original image\")\n",
    "ax[1].imshow(bgr2rgb(log_transformed))"
   ]
  },
  {
   "attachments": {},
   "cell_type": "markdown",
   "metadata": {},
   "source": [
    "## Contrast stretching"
   ]
  },
  {
   "attachments": {},
   "cell_type": "markdown",
   "metadata": {},
   "source": [
    "img = cv.imread('img4.png')\n",
    "\n",
    "#Finding the highest and the lowest intensity pixel value\n",
    "mi = np.min(img)\n",
    "ma = np.max(img)\n",
    "\n",
    "#performing contrast stretching\n",
    "stretched = ((img - mi)/(ma-mi))*255\n",
    "stretched = np.array(stretched,dtype = 'uint8')\n",
    "\n",
    "# plotting image\n",
    "fx,ax = plt.subplots(2, figsize = (15,10))\n",
    "\n",
    "ax[0].imshow(bgr2rgb(img))\n",
    "ax[1].imshow(bgr2rgb(stretched))"
   ]
  }
 ],
 "metadata": {
  "language_info": {
   "name": "python"
  },
  "orig_nbformat": 4
 },
 "nbformat": 4,
 "nbformat_minor": 2
}
