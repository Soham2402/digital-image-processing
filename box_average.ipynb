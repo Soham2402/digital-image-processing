{
 "cells": [
  {
   "cell_type": "code",
   "execution_count": null,
   "metadata": {},
   "outputs": [],
   "source": [
    "import cv2 as cv\n",
    "import seaborn as sns\n",
    "import matplotlib.pyplot as plt\n",
    "import numpy as np\n",
    "#using previus images\n",
    "img = cv.imread(\"img4.png\")\n",
    "#creating a filter \n",
    "size = int(input(\"Enter the size of the kernel: \"))\n",
    "\n",
    "#averaging using the filter\n",
    "blur = cv.blur(img,ksize = (size,size))\n",
    "box = cv.boxFilter(img,-1,(size,size))\n",
    "plot_image(img,img,box,blur)"
   ]
  }
 ],
 "metadata": {
  "language_info": {
   "name": "python"
  },
  "orig_nbformat": 4
 },
 "nbformat": 4,
 "nbformat_minor": 2
}
