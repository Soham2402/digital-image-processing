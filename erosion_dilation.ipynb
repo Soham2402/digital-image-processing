{
 "cells": [
  {
   "attachments": {},
   "cell_type": "markdown",
   "metadata": {},
   "source": [
    "## Erosion"
   ]
  },
  {
   "cell_type": "code",
   "execution_count": null,
   "metadata": {},
   "outputs": [],
   "source": [
    "import cv2 as cv\n",
    "import seaborn as sns\n",
    "import matplotlib.pyplot as plt\n",
    "import numpy as np\n",
    "# load image\n",
    "img = cv.imread('img2.png')\n",
    "#convert to grayscale\n",
    "img_gray = cv.cvtColor(img, cv.COLOR_BGR2GRAY)\n",
    "#threshold to get a binary image\n",
    "img_tresh = cv.threshold(img_gray, 120, 255, cv.THRESH_BINARY)[1]\n",
    "\n",
    "# make 2 kernel sizes\n",
    "kernel = np.ones((5, 5), np.uint8)\n",
    "kernel2 = np.ones((7, 7), np.uint8)\n",
    "\n",
    "#eroding\n",
    "img_erod = cv.erode(img_tresh,kernel,iterations=1)\n",
    "img_erod2 = cv.erode(img_tresh,kernel2,iterations=1)\n",
    "\n",
    "\n",
    "plot_image(img_gray,img_tresh,img_erod,img_erod2,\"original\",\"thresholded\",\"eroded with ksize 5\",\"eroded with ksize 7\")"
   ]
  },
  {
   "attachments": {},
   "cell_type": "markdown",
   "metadata": {},
   "source": [
    "## Dilation\n"
   ]
  },
  {
   "cell_type": "code",
   "execution_count": null,
   "metadata": {},
   "outputs": [],
   "source": [
    "# load image\n",
    "img = cv.imread('img2.png')\n",
    "#convert to grayscale\n",
    "img_gray = cv.cvtColor(img, cv.COLOR_BGR2GRAY)\n",
    "#threshold to get a binary image\n",
    "img_tresh = cv.threshold(img_gray, 120, 255, cv.THRESH_BINARY)[1]\n",
    "\n",
    "# make 2 kernel sizes\n",
    "kernel = np.ones((5, 5), np.uint8)\n",
    "kernel2 = np.ones((11, 11), np.uint8)\n",
    "\n",
    "#eroding\n",
    "img_dilate = cv.dilate(img_tresh,kernel,iterations=1)\n",
    "img_dilate2 = cv.dilate(img_tresh,kernel2,iterations=1)\n",
    "\n",
    "\n",
    "plot_image(img_gray,img_tresh,img_dilate,img_dilate,\"original\",\"thresholded\",\"dilated with ksize 5\",\"dilated with ksize 7\")"
   ]
  }
 ],
 "metadata": {
  "language_info": {
   "name": "python"
  },
  "orig_nbformat": 4
 },
 "nbformat": 4,
 "nbformat_minor": 2
}
