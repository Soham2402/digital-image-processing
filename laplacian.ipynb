{
 "cells": [
  {
   "cell_type": "code",
   "execution_count": null,
   "metadata": {},
   "outputs": [],
   "source": [
    "import cv2 as cv\n",
    "import seaborn as sns\n",
    "import matplotlib.pyplot as plt\n",
    "import numpy as np\n",
    "\n",
    "\n",
    "#importing the image\n",
    "img = cv.imread(\"img3.jpg\")\n",
    "\n",
    "#converting to gray scale\n",
    "gray = cv.cvtColor(img,cv.COLOR_BGR2GRAY)\n",
    "\n",
    "\n",
    "#Performing laplacian \n",
    "lap = cv.Laplacian(gray,cv.CV_64F,ksize = 1)\n",
    "lap = np.absolute(lap)\n",
    "lap = np.array(lap, dtype = \"uint8\")\n",
    "\n",
    "#Plot image\n",
    "fx,ax = plt.subplots(2,figsize = (15,10))\n",
    "\n",
    "ax[0].imshow(bgr2rgb(gray))\n",
    "ax[1].imshow(bgr2rgb(lap))"
   ]
  }
 ],
 "metadata": {
  "language_info": {
   "name": "python"
  },
  "orig_nbformat": 4
 },
 "nbformat": 4,
 "nbformat_minor": 2
}
