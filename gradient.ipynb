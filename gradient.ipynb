{
 "cells": [
  {
   "cell_type": "code",
   "execution_count": null,
   "metadata": {},
   "outputs": [],
   "source": [
    "import cv2\n",
    "import numpy as np\n",
    "import skimage.exposure\n",
    "\n",
    "img = cv2.imread('img1.png', cv2.IMREAD_GRAYSCALE)\n",
    "Kx = np.array([[-1, 0, 1], \n",
    "               [-2, 0, 2], \n",
    "               [-1, 0, 1]])\n",
    "\n",
    "Ky = np.array([[1,   2,  1], \n",
    "               [0,   0,  0], \n",
    "              [-1,  -2, -1]])\n",
    "\n",
    "grad_x = cv2.filter2D(img, -1, Kx)\n",
    "grad_y = cv2.filter2D(img, -1, Ky)\n",
    "\n",
    "magnitude = np.sqrt(grad_x**2 + grad_y**2)\n",
    "grad_x[grad_x == 0] = 1\n",
    "angle = np.arctan(grad_y/grad_x)\n",
    "\n",
    "fx,ax = plt.subplots(4, figsize = (15,30))\n",
    "\n",
    "ax[0].imshow(grad_x,cmap = 'gray')\n",
    "ax[1].imshow(grad_y,cmap = 'gray')\n",
    "ax[3].imshow(angle,cmap = 'gray')\n",
    "ax[2].imshow(np.uint8(magnitude),cmap = 'gray')\n"
   ]
  }
 ],
 "metadata": {
  "language_info": {
   "name": "python"
  },
  "orig_nbformat": 4
 },
 "nbformat": 4,
 "nbformat_minor": 2
}
