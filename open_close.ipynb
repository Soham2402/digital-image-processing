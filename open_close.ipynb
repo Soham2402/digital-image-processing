{
 "cells": [
  {
   "cell_type": "code",
   "execution_count": null,
   "metadata": {},
   "outputs": [],
   "source": [
    "import cv2 as cv\n",
    "import seaborn as sns\n",
    "import matplotlib.pyplot as plt\n",
    "import numpy as np\n",
    "\n",
    "#load image\n",
    "img = cv.imread(\"img2.png\")\n",
    "#convert to grayscale\n",
    "img_gray = cv.cvtColor(img, cv.COLOR_BGR2GRAY)\n",
    "#threshold to get a binary image\n",
    "img_tresh = cv.threshold(img_gray, 120, 255, cv.THRESH_BINARY)[1]\n",
    "\n",
    "# create kernel \n",
    "kernel = np.ones((5,5))\n",
    "\n",
    "#open\n",
    "img_open = cv.morphologyEx(img_tresh,cv.MORPH_OPEN,kernel)\n",
    "img_close = cv.morphologyEx(img_tresh,cv.MORPH_CLOSE,kernel)\n",
    "\n",
    "plot_image(img_dilate,img_erod,img_open,img_close,\"dilated\",\"eroded\",\"opened\",\"closed\")"
   ]
  }
 ],
 "metadata": {
  "language_info": {
   "name": "python"
  },
  "orig_nbformat": 4
 },
 "nbformat": 4,
 "nbformat_minor": 2
}
