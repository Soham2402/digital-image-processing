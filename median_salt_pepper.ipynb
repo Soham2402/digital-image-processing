{
 "cells": [
  {
   "cell_type": "code",
   "execution_count": null,
   "metadata": {},
   "outputs": [],
   "source": [
    "placeholder = np.random.random((500,500))\n",
    "def plot_image(img1 = placeholder,\n",
    "               img2 = placeholder, \n",
    "               img3 = placeholder,\n",
    "               img4 = placeholder,\n",
    "               title1 = \"none\",title2 = 'none',\n",
    "               title3 = \"none\"\n",
    "               ,title4 = 'none' ):\n",
    "    \n",
    "    f, axarr = plt.subplots(2,2,figsize = (15,10))\n",
    "    \n",
    "    axarr[0,0].imshow(bgr2rgb(img1))\n",
    "    axarr[0, 0].set_title(title1)\n",
    "    \n",
    "    axarr[0,1].imshow(bgr2rgb(img2))\n",
    "    axarr[0,1].set_title(title2)\n",
    "    \n",
    "    axarr[1,0].imshow(bgr2rgb(img3))\n",
    "    axarr[1, 0].set_title(title3)\n",
    "    \n",
    "    axarr[1,1].imshow(bgr2rgb(img4))\n",
    "    axarr[1,1].set_title(title4)"
   ]
  },
  {
   "cell_type": "code",
   "execution_count": null,
   "metadata": {},
   "outputs": [],
   "source": [
    "#reading images\n",
    "img = cv.imread(\"img1.png\")\n",
    "shape = img.shape\n",
    "# adding random noise\n",
    "for i in range(0,(shape[0]*shape[1])//4):\n",
    "    x = np.random.randint(1,shape[0])\n",
    "    y = np.random.randint(1,shape[1])\n",
    "    \n",
    "    random = np.random.randint(0,100)\n",
    "    \n",
    "    if random < 50:\n",
    "        img[x][y] = [255,255,255]\n",
    "    else:\n",
    "        img[x][y] = [0,0,0]\n",
    "\n",
    "#performing median filtering\n",
    "median1 = cv.medianBlur(img, ksize = 3 )\n",
    "median2 = cv.medianBlur(img, ksize = 5 )\n",
    "median3 = cv.medianBlur(img, ksize = 7 )\n",
    "\n",
    "#plotting images\n",
    "\n",
    "\n",
    "plot_image(img,median1,median2,median3,\"Original\",\n",
    "           \"Median with kernel 3\",\"Median with kernel 5\",\"Median with kernel 7\")"
   ]
  }
 ],
 "metadata": {
  "language_info": {
   "name": "python"
  },
  "orig_nbformat": 4
 },
 "nbformat": 4,
 "nbformat_minor": 2
}
