{
 "cells": [
  {
   "cell_type": "code",
   "execution_count": null,
   "metadata": {},
   "outputs": [],
   "source": [
    "import cv2 as cv\n",
    "import seaborn as sns\n",
    "import matplotlib.pyplot as plt\n",
    "import numpy as np\n",
    "\n",
    "# Reading image\n",
    "img = cv.imread('img2.png')\n",
    "\n",
    "#Convert it to grayscale\n",
    "gray = cv.cvtColor(img, cv.COLOR_BGR2GRAY)\n",
    "\n",
    "#Find out the max initensity pixel\n",
    "int_max = np.max(gray)\n",
    "thresh_list = [125,100,30]\n",
    "\n",
    "#performing thresholding\n",
    "thresh1 = cv.threshold(gray,thresh_list[0],int_max,cv.THRESH_BINARY)[1]\n",
    "thresh2 = cv.threshold(gray,thresh_list[1],int_max,cv.THRESH_BINARY)[1]\n",
    "thresh3 = cv.threshold(gray,thresh_list[2],int_max,cv.THRESH_BINARY)[1]\n",
    "\n",
    "#Plotting\n",
    "plot_image(gray,thresh1,thresh2,thresh3,\"gray\",\n",
    "          \"Threshold value of 125\",\n",
    "          \"Threshold value of 100\",\n",
    "          \"Threshold value of 30\")\n"
   ]
  }
 ],
 "metadata": {
  "language_info": {
   "name": "python"
  },
  "orig_nbformat": 4
 },
 "nbformat": 4,
 "nbformat_minor": 2
}
